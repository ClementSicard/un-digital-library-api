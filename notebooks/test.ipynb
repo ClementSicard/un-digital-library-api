{
 "cells": [
  {
   "cell_type": "code",
   "execution_count": 1,
   "metadata": {},
   "outputs": [],
   "source": [
    "from undl.client import UNDLClient\n",
    "\n",
    "args = {\n",
    "    \"query\": \"Women in peacekeeping\",\n",
    "    \"verbose\": True,\n",
    "    \"output\": \"./downloads/output.json\",\n",
    "    \"n_results\": 50,\n",
    "    \"format\": \"marcxml\",\n",
    "}"
   ]
  },
  {
   "cell_type": "code",
   "execution_count": 2,
   "metadata": {},
   "outputs": [
    {
     "name": "stderr",
     "output_type": "stream",
     "text": [
      "\u001b[32m2023-04-26 17:38:21.597\u001b[0m | \u001b[1mINFO    \u001b[0m | \u001b[36mundl.client\u001b[0m:\u001b[36mquery\u001b[0m:\u001b[36m44\u001b[0m - \u001b[1mQuerying UNDL API with params: {'p': 'Women in peacekeeping', 'of': 'xm', 'rg': 50, 'c': 'Resource Type'}\u001b[0m\n",
      "\u001b[32m2023-04-26 17:38:22.566\u001b[0m | \u001b[34m\u001b[1mDEBUG   \u001b[0m | \u001b[36mundl.client\u001b[0m:\u001b[36mquery\u001b[0m:\u001b[36m49\u001b[0m - \u001b[34m\u001b[1mURL: https://digitallibrary.un.org/search?p=Women+in+peacekeeping&of=xm&rg=50&c=Resource+Type\u001b[0m\n"
     ]
    },
    {
     "ename": "TypeError",
     "evalue": "expected str, bytes or os.PathLike object, not BufferedRandom",
     "output_type": "error",
     "traceback": [
      "\u001b[0;31m---------------------------------------------------------------------------\u001b[0m",
      "\u001b[0;31mTypeError\u001b[0m                                 Traceback (most recent call last)",
      "Cell \u001b[0;32mIn[2], line 2\u001b[0m\n\u001b[1;32m      1\u001b[0m client \u001b[39m=\u001b[39m UNDLClient(verbose\u001b[39m=\u001b[39margs[\u001b[39m\"\u001b[39m\u001b[39mverbose\u001b[39m\u001b[39m\"\u001b[39m])\n\u001b[0;32m----> 2\u001b[0m results \u001b[39m=\u001b[39m client\u001b[39m.\u001b[39;49mquery(\n\u001b[1;32m      3\u001b[0m     query\u001b[39m=\u001b[39;49margs[\u001b[39m\"\u001b[39;49m\u001b[39mquery\u001b[39;49m\u001b[39m\"\u001b[39;49m],\n\u001b[1;32m      4\u001b[0m     output_format\u001b[39m=\u001b[39;49margs[\u001b[39m\"\u001b[39;49m\u001b[39mformat\u001b[39;49m\u001b[39m\"\u001b[39;49m],\n\u001b[1;32m      5\u001b[0m     n_results\u001b[39m=\u001b[39;49margs[\u001b[39m\"\u001b[39;49m\u001b[39mn_results\u001b[39;49m\u001b[39m\"\u001b[39;49m],\n\u001b[1;32m      6\u001b[0m     output_file\u001b[39m=\u001b[39;49margs[\u001b[39m\"\u001b[39;49m\u001b[39moutput\u001b[39;49m\u001b[39m\"\u001b[39;49m],\n\u001b[1;32m      7\u001b[0m )\n",
      "File \u001b[0;32m~/Library/Mobile Documents/com~apple~CloudDocs/ETH Zurich/MA4/Practical Work/un-digital-library-api/undl/client.py:54\u001b[0m, in \u001b[0;36mUNDLClient.query\u001b[0;34m(self, query, output_format, n_results, offset, output_file)\u001b[0m\n\u001b[1;32m     51\u001b[0m response \u001b[39m=\u001b[39m r\u001b[39m.\u001b[39mcontent\u001b[39m.\u001b[39mdecode(\u001b[39m\"\u001b[39m\u001b[39mutf-8\u001b[39m\u001b[39m\"\u001b[39m)\n\u001b[1;32m     53\u001b[0m tmp \u001b[39m=\u001b[39m TemporaryFile(\u001b[39mdir\u001b[39m\u001b[39m=\u001b[39mos\u001b[39m.\u001b[39mpath\u001b[39m.\u001b[39mdirname(\u001b[39m__file__\u001b[39m))\n\u001b[0;32m---> 54\u001b[0m \u001b[39mwith\u001b[39;00m \u001b[39mopen\u001b[39;49m(tmp, \u001b[39m\"\u001b[39;49m\u001b[39mw\u001b[39;49m\u001b[39m\"\u001b[39;49m) \u001b[39mas\u001b[39;00m f:\n\u001b[1;32m     55\u001b[0m     f\u001b[39m.\u001b[39mwrite(response)\n\u001b[1;32m     57\u001b[0m \u001b[39mmatch\u001b[39;00m output_format:\n",
      "\u001b[0;31mTypeError\u001b[0m: expected str, bytes or os.PathLike object, not BufferedRandom"
     ]
    }
   ],
   "source": [
    "client = UNDLClient(verbose=args[\"verbose\"])\n",
    "results = client.query(\n",
    "    query=args[\"query\"],\n",
    "    output_format=args[\"format\"],\n",
    "    n_results=args[\"n_results\"],\n",
    "    output_file=args[\"output\"],\n",
    ")"
   ]
  },
  {
   "cell_type": "code",
   "execution_count": null,
   "metadata": {},
   "outputs": [],
   "source": []
  }
 ],
 "metadata": {
  "kernelspec": {
   "display_name": "base",
   "language": "python",
   "name": "python3"
  },
  "language_info": {
   "codemirror_mode": {
    "name": "ipython",
    "version": 3
   },
   "file_extension": ".py",
   "mimetype": "text/x-python",
   "name": "python",
   "nbconvert_exporter": "python",
   "pygments_lexer": "ipython3",
   "version": "3.10.10"
  },
  "orig_nbformat": 4
 },
 "nbformat": 4,
 "nbformat_minor": 2
}
